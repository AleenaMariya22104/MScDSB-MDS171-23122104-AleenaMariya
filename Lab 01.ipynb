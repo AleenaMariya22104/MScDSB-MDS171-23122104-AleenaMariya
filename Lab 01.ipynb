{
 "cells": [
  {
   "cell_type": "code",
   "execution_count": 8,
   "metadata": {},
   "outputs": [
    {
     "name": "stdout",
     "output_type": "stream",
     "text": [
      "Aleena\n",
      "Aleena\n",
      "Aleena\n",
      "Aleena\n",
      "Aleena\n",
      "Aleena\n"
     ]
    }
   ],
   "source": [
    "name=str(input(\"Enter the Name : \"))\n",
    "n = int(input(\"Enter the number to be printed : \"))\n",
    "for n in range (1, n+1):\n",
    "    print(name)\n"
   ]
  }
 ],
 "metadata": {
  "kernelspec": {
   "display_name": "Python 3",
   "language": "python",
   "name": "python3"
  },
  "language_info": {
   "codemirror_mode": {
    "name": "ipython",
    "version": 3
   },
   "file_extension": ".py",
   "mimetype": "text/x-python",
   "name": "python",
   "nbconvert_exporter": "python",
   "pygments_lexer": "ipython3",
   "version": "3.10.8"
  },
  "orig_nbformat": 4
 },
 "nbformat": 4,
 "nbformat_minor": 2
}
