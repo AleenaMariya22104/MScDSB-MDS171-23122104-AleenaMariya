{
 "cells": [
  {
   "cell_type": "code",
   "execution_count": 36,
   "metadata": {},
   "outputs": [
    {
     "name": "stdout",
     "output_type": "stream",
     "text": [
      "Total count of vowels:  2\n",
      "Vowel counts:\n",
      "e : 1\n",
      "o : 1\n",
      "Percentage: 40.0%\n"
     ]
    }
   ],
   "source": [
    "# COUNT THE NUMBER OF VOWELS\n",
    "string=input(\"Enter the string:\")\n",
    "vowels= [\"a\",\"e\",\"i\",\"o\",\"u\"]\n",
    "vowel_count = 0\n",
    "vowel_dict = {}\n",
    "for i in string.lower():\n",
    "      for j in vowels:\n",
    "            if i == j:\n",
    "                  vowel_count += 1\n",
    "                  if i in vowel_dict:\n",
    "                         #In this we add a value in dictonary\n",
    "                         vowel_dict[i] += 1  \n",
    "                  else:\n",
    "                       vowel_dict[i] = 1\n",
    "print(f\"Total count of vowels: \", (vowel_count)) #counting how many number of vowels are there\n",
    "# PRINT EACH VOWEL AND ITS COUNT\n",
    "print(\"Vowel counts:\")\n",
    "for key , value in vowel_dict.items():\n",
    "      print(key, \":\", value)\n",
    "# CALCULATE THE PERCENTAGE OF VOWELS\n",
    "percentage = 100.0 * vowel_count / len(string)\n",
    "print(f\"Percentage: {percentage}%\")"
   ]
  },
  {
   "cell_type": "code",
   "execution_count": 2,
   "metadata": {},
   "outputs": [
    {
     "name": "stdout",
     "output_type": "stream",
     "text": [
      "Character Count\n",
      " The total number of vowels is = 4\n",
      "Count of vowels is  4  vowels are  ALEENA\n",
      "\n",
      "Vowels are 66.67 % in the word ALEENA\n"
     ]
    }
   ],
   "source": [
    "def countvowels(a):\n",
    "    count=[0]*5\n",
    "    tvowels=0\n",
    "    vowels =[\"A\",\"E\",\"I\",\"O\",\"U\"]\n",
    "    print(\"Character Count\")\n",
    "    for j in range(0,5):\n",
    "        for i in a:\n",
    "            if vowels[j] == i:\n",
    "                count[j] = count[j]+1\n",
    "                tvowels = tvowels+1\n",
    "    print(\" The total number of vowels is =\",tvowels)  \n",
    "    \n",
    "    print(\"Count of vowels is \",tvowels,\" vowels are \",a)\n",
    "    print(\"\\nVowels are\",round((tvowels/len(a))*100,2),\"%\",\"in the word\",a)                  \n",
    "word = input(\"Enter the word\")\n",
    "word = word.strip() #for removeing whitespaces\n",
    "word = word.upper() #changing the string to upper case for matching the strings in vowels\n",
    "countvowels(word)  #function calling here"
   ]
  }
 ],
 "metadata": {
  "kernelspec": {
   "display_name": "Python 3",
   "language": "python",
   "name": "python3"
  },
  "language_info": {
   "codemirror_mode": {
    "name": "ipython",
    "version": 3
   },
   "file_extension": ".py",
   "mimetype": "text/x-python",
   "name": "python",
   "nbconvert_exporter": "python",
   "pygments_lexer": "ipython3",
   "version": "3.10.8"
  },
  "orig_nbformat": 4
 },
 "nbformat": 4,
 "nbformat_minor": 2
}
