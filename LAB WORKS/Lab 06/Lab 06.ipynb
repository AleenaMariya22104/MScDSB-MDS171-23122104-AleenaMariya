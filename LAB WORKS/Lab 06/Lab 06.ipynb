{
 "cells": [
  {
   "cell_type": "code",
   "execution_count": 13,
   "metadata": {},
   "outputs": [],
   "source": [
    "# Importing the external library\n",
    "import random \n",
    "\n",
    "Item_Name=[\"Apple\",\"Orange\",\"Grapes\",\"Strawberry\",\"Blueberry\",\"Pear\",\"Mulberry\",\"Blackberry\",\"Chikku\",\"Papaya\"]\n",
    "Item_Quantity=[\"5\",\"2\",\"4\",\"1\",\"6\",\"2\",\"4\",\"4\",\"2\",\"3\"]\n",
    "Item_Price=[\"100\",\"80\",\"100\",\"150\",\"200\",\"150\",\"180\",\"160\",\"250\",\"140\"]\n",
    "\n",
    "\n",
    "file = open(\"23122104.csv\",\"w+\")   #opening the file 23122104.csv\n",
    "for i in range(100):\n",
    "    r1 = random.randint(0, 9) # Generating the random number from the range and store it in r1 variable\n",
    "    r2 = random.randint(0, 9)\n",
    "    r3 = random.randint(0, 9)\n",
    "    quantity=int(Item_Quantity[r2])\n",
    "    price=int(Item_Price[r3])\n",
    "    total=quantity*price\n",
    "    file.write(Item_Name[r1]+\",\"+Item_Quantity[r2]+\",\"+Item_Price[r3]+\"\\n\")    #writing into the file\n",
    "file.close()\n",
    "\n",
    "\n"
   ]
  },
  {
   "cell_type": "code",
   "execution_count": null,
   "metadata": {},
   "outputs": [],
   "source": []
  }
 ],
 "metadata": {
  "kernelspec": {
   "display_name": "Python 3",
   "language": "python",
   "name": "python3"
  },
  "language_info": {
   "codemirror_mode": {
    "name": "ipython",
    "version": 3
   },
   "file_extension": ".py",
   "mimetype": "text/x-python",
   "name": "python",
   "nbconvert_exporter": "python",
   "pygments_lexer": "ipython3",
   "version": "3.10.8"
  },
  "orig_nbformat": 4
 },
 "nbformat": 4,
 "nbformat_minor": 2
}
