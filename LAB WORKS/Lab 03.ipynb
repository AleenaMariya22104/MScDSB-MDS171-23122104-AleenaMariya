{
 "cells": [
  {
   "cell_type": "code",
   "execution_count": 7,
   "metadata": {},
   "outputs": [
    {
     "name": "stdout",
     "output_type": "stream",
     "text": [
      "Mean of the observation: 542.94\n",
      "Minimum value of the observation: 17\n",
      "Maximum value of the observation: 999\n",
      "Range of the observation: 982\n"
     ]
    }
   ],
   "source": [
    "#MEAN:::::\n",
    "def mean(numbers):\n",
    "    total = 0      #here we are setting total as 0\n",
    "    count = 0      #here we are setting count as 0\n",
    "    for num in numbers:\n",
    "        total += num\n",
    "        count += 1\n",
    "    return total / count   #mean is the total/count\n",
    "\n",
    "#MINIMUM VALUE:::::\n",
    "def minimum(numbers):\n",
    "    min_value = numbers[0]  #here we are setting the index num as 0\n",
    "    for num in numbers:\n",
    "        if num < min_value:  #comparing all elements with max_value\n",
    "            min_value = num\n",
    "    return min_value\n",
    "\n",
    "#MAXIMUM VALUE:::::\n",
    "def maximum(numbers):\n",
    "    max_value = numbers[0]   #here we are setting the index num as 0\n",
    "    for num in numbers:\n",
    "        if num > max_value:  #comparing all elements with max_value\n",
    "            max_value = num\n",
    "    return max_value\n",
    "\n",
    "#RANGE:::::\n",
    "def range(numbers):\n",
    "    return maximum(numbers) - minimum(numbers)   #range is the difference btw maximum and minimum value\n",
    "\n",
    "# The given set of numbers are represented inside []\n",
    "numbers = [761, 123, 585, 275, 194, 840, 999, 622, 763, 40, 825, 687, 402, 338, 611, 987, 739, 95, 819, 568,\n",
    "           320, 126, 688, 948, 514, 223, 751, 379, 857, 767, 492, 162, 437, 934, 430, 343, 725, 511, 580, 678,\n",
    "           708, 823, 346, 179, 786, 663, 195, 890, 267, 502, 214, 300, 786, 961, 235, 559, 992, 919, 948, 318,\n",
    "           57, 787, 653, 317, 305, 172, 966, 182, 970, 17, 89, 624, 629, 595, 485, 752, 984, 978, 460, 124,\n",
    "           321, 256, 614, 852, 811, 561, 127, 207, 406, 615, 888, 391, 691, 470, 911, 401, 137, 600, 478, 682]\n",
    "\n",
    "# Calculate descriptive statistics using functions\n",
    "mean_list = mean(numbers)\n",
    "minimum_list = minimum(numbers)\n",
    "maximum_list = maximum(numbers)\n",
    "range_list = range(numbers)\n",
    "\n",
    "#printing mean, minimum, maximum and range of the list\n",
    "print(\"Mean of the observation:\", mean_list)\n",
    "print(\"Minimum value of the observation:\", minimum_list)\n",
    "print(\"Maximum value of the observation:\", maximum_list)\n",
    "print(\"Range of the observation:\", range_list)\n",
    "\n",
    "\n"
   ]
  }
 ],
 "metadata": {
  "kernelspec": {
   "display_name": "Python 3",
   "language": "python",
   "name": "python3"
  },
  "language_info": {
   "codemirror_mode": {
    "name": "ipython",
    "version": 3
   },
   "file_extension": ".py",
   "mimetype": "text/x-python",
   "name": "python",
   "nbconvert_exporter": "python",
   "pygments_lexer": "ipython3",
   "version": "3.10.8"
  },
  "orig_nbformat": 4
 },
 "nbformat": 4,
 "nbformat_minor": 2
}
