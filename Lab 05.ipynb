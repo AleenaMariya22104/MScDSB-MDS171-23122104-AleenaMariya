{
 "cells": [
  {
   "cell_type": "code",
   "execution_count": 14,
   "metadata": {},
   "outputs": [
    {
     "name": "stdout",
     "output_type": "stream",
     "text": [
      "Total count of vowels: 4\n",
      "\n",
      "Vowel counts:\n",
      "a => 2\n",
      "e => 2\n",
      "Percentage: 66.66666666666667%\n"
     ]
    }
   ],
   "source": [
    "# COUNT THE NUMBER OF VOWELS\n",
    "\n",
    "string=input(\"Enter the string:\")\n",
    "vowels= [\"a\",\"e\",\"i\",\"o\",\"u\"]\n",
    "vowel_count = 0\n",
    "vowel_dict = {}\n",
    "for i in string.lower():\n",
    "     \n",
    "      for j in vowels:\n",
    "            if i == j:\n",
    "                  vowel_count += 1\n",
    "                  if i in vowel_dict:\n",
    "                         #In this we add a value in dictonary\n",
    "                         vowel_dict[i] += 1  \n",
    "                  else:\n",
    "                       vowel_dict[i] = 1\n",
    "\n",
    "\n",
    "               \n",
    "            \n",
    "print(f\"Total count of vowels: {vowel_count}\") #counting how many number of vowels are there\n",
    "print()   #printing the vowels\n",
    "\n",
    "# PRINT EACH VOWEL AND ITS COUNT\n",
    "\n",
    "print(\"Vowel counts:\")\n",
    "\n",
    "for key , value in vowel_dict.items():\n",
    "      print(f\"{key} => {value}\")\n",
    "\n",
    "\n",
    "# CALCULATE THE PERCENTAGE OF VOWELS\n",
    "\n",
    "percentage = 100.0 * vowel_count / len(string)\n",
    "print(f\"Percentage: {percentage}%\")\n",
    "\n"
   ]
  }
 ],
 "metadata": {
  "kernelspec": {
   "display_name": "Python 3",
   "language": "python",
   "name": "python3"
  },
  "language_info": {
   "codemirror_mode": {
    "name": "ipython",
    "version": 3
   },
   "file_extension": ".py",
   "mimetype": "text/x-python",
   "name": "python",
   "nbconvert_exporter": "python",
   "pygments_lexer": "ipython3",
   "version": "3.10.8"
  },
  "orig_nbformat": 4
 },
 "nbformat": 4,
 "nbformat_minor": 2
}
