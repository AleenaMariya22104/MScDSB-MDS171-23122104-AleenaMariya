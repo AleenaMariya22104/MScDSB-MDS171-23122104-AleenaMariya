{
 "cells": [
  {
   "cell_type": "code",
   "execution_count": 2,
   "metadata": {},
   "outputs": [
    {
     "name": "stdout",
     "output_type": "stream",
     "text": [
      "1\n",
      "2\n",
      "3\n",
      "4\n",
      "5\n",
      "6\n",
      "7\n",
      "8\n",
      "9\n",
      "10\n"
     ]
    }
   ],
   "source": [
    "# 1. Write a Python program that uses a while loop to print the numbers from 1 to 10.\n",
    "i = 1\n",
    "while(i<=10):\n",
    "    print(i)        \n",
    "    i += 1"
   ]
  },
  {
   "cell_type": "code",
   "execution_count": 3,
   "metadata": {},
   "outputs": [
    {
     "name": "stdout",
     "output_type": "stream",
     "text": [
      "4950\n"
     ]
    }
   ],
   "source": [
    "# 2. Write a Python program that uses a for loop to calculate the sum of all numbers from 1 to 100.\n",
    "sum = 0\n",
    "for i in range(1,100):\n",
    "    sum = sum + i\n",
    "\n",
    "print(sum)"
   ]
  },
  {
   "cell_type": "code",
   "execution_count": 12,
   "metadata": {},
   "outputs": [
    {
     "name": "stdout",
     "output_type": "stream",
     "text": [
      "{'Alice': 88, 'Bob': 65, 'Carol': 90}\n"
     ]
    }
   ],
   "source": [
    "# 3. Create a dictionary called student_grades that stores the grades of three students (Alice, Bob, and Carol) for a test. \n",
    "# Use their names as keys and assign random grades (e.g., out of 100) as values.\n",
    "\n",
    "student_grades={\n",
    "    \"Alice\" : 88,\n",
    "    \"Bob\" : 65,\n",
    "    \"Carol\" : 90\n",
    "}\n",
    "print(student_grades)"
   ]
  },
  {
   "cell_type": "code",
   "execution_count": 4,
   "metadata": {},
   "outputs": [],
   "source": [
    "# 4. Write a Python program that takes a list of numbers as input and returns a new list containing only the even numbers from the original list.\n",
    "def evenNumbers(list):\n",
    "    even_num = []\n",
    "\n",
    "    for number in list:\n",
    "        if number % 2 == 0:\n",
    "            even_num.append(number)\n",
    "\n",
    "    return even_num"
   ]
  }
 ],
 "metadata": {
  "kernelspec": {
   "display_name": "Python 3",
   "language": "python",
   "name": "python3"
  },
  "language_info": {
   "codemirror_mode": {
    "name": "ipython",
    "version": 3
   },
   "file_extension": ".py",
   "mimetype": "text/x-python",
   "name": "python",
   "nbconvert_exporter": "python",
   "pygments_lexer": "ipython3",
   "version": "3.10.8"
  },
  "orig_nbformat": 4
 },
 "nbformat": 4,
 "nbformat_minor": 2
}
