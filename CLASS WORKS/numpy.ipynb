{
 "cells": [
  {
   "cell_type": "code",
   "execution_count": 1,
   "metadata": {},
   "outputs": [],
   "source": [
    "import numpy as np"
   ]
  },
  {
   "cell_type": "code",
   "execution_count": 2,
   "metadata": {},
   "outputs": [
    {
     "data": {
      "text/plain": [
       "array([1., 1., 1., 1., 1., 1., 1., 1., 1., 1., 1., 1., 1., 1., 1., 1., 1.,\n",
       "       1., 1., 1., 1., 1., 1., 1., 1., 1., 1., 1., 1., 1., 1., 1., 1., 1.,\n",
       "       1., 1., 1., 1., 1., 1., 1., 1., 1., 1., 1., 1., 1., 1., 1., 1., 1.,\n",
       "       1., 1., 1., 1., 1., 1., 1., 1., 1., 1., 1., 1., 1., 1., 1., 1., 1.,\n",
       "       1., 1., 1., 1., 1., 1., 1., 1., 1., 1., 1., 1., 1., 1., 1., 1., 1.,\n",
       "       1., 1., 1., 1., 1., 1., 1., 1., 1., 1., 1., 1., 1., 1., 1.])"
      ]
     },
     "execution_count": 2,
     "metadata": {},
     "output_type": "execute_result"
    }
   ],
   "source": [
    "np.ones(100)"
   ]
  },
  {
   "cell_type": "code",
   "execution_count": 3,
   "metadata": {},
   "outputs": [
    {
     "data": {
      "text/plain": [
       "array([1, 1, 1, 1, 1, 1, 1, 1, 1, 1, 1, 1, 1, 1, 1, 1, 1, 1, 1, 1, 1, 1,\n",
       "       1, 1, 1, 1, 1, 1, 1, 1, 1, 1, 1, 1, 1, 1, 1, 1, 1, 1, 1, 1, 1, 1,\n",
       "       1, 1, 1, 1, 1, 1, 1, 1, 1, 1, 1, 1, 1, 1, 1, 1, 1, 1, 1, 1, 1, 1,\n",
       "       1, 1, 1, 1, 1, 1, 1, 1, 1, 1, 1, 1, 1, 1, 1, 1, 1, 1, 1, 1, 1, 1,\n",
       "       1, 1, 1, 1, 1, 1, 1, 1, 1, 1, 1, 1])"
      ]
     },
     "execution_count": 3,
     "metadata": {},
     "output_type": "execute_result"
    }
   ],
   "source": [
    "np.ones(100,dtype=int)"
   ]
  },
  {
   "cell_type": "code",
   "execution_count": null,
   "metadata": {},
   "outputs": [],
   "source": []
  },
  {
   "cell_type": "code",
   "execution_count": null,
   "metadata": {},
   "outputs": [],
   "source": [
    "# Create a sportMart class, where you will have \n",
    "# -> inventory / shelf of items\n",
    "# -> Orders of customers\n",
    "\n",
    "# Create csv file which will store your inventory details and order details\n",
    "\n",
    "# with the help of file handling technqiues in python, read the file and create an object for trinity store and populate the inventory items and orders into the trinity store.\n",
    "\n",
    "# to make sure that you have added all the items in your file, use a display method to show your inventory and order history.\n",
    "\n",
    "class sportmart():\n",
    "    def _init_(self):\n",
    "        self.inventory={}\n",
    "        self.orders={}\n",
    "    def createOrder(self,OrderID,ItemName,Quantity,Price,Total):\n",
    "        temp={\n",
    "            \"Orderid\" : OrderID,\n",
    "            \"ItemName\" : ItemName,\n",
    "            \"Quantity\" : Quantity,\n",
    "            \"Price\" : Price,\n",
    "            \"Total\" : Total\n",
    "        }\n",
    "        self.orders[OrderID]=temp\n",
    "    def createProduct(self,ProductId,ProductName,Quantity ,Price):\n",
    "        temp={\n",
    "            \"productid\" : ProductId,\n",
    "            \"productname\" : ProductName,\n",
    "            \"quantity\":Quantity,\n",
    "            \"price\" : Price\n",
    "        }\n",
    "        self.inventory[ProductId]=temp\n",
    "    \n",
    "    def printOrders(self):\n",
    "        print(self.orders)\n",
    "    def printInventory(self):\n",
    "        print(self.inventory)\n",
    "    \n",
    "    def new_Orders(self):\n",
    "        while True:\n",
    "            OrderID=input(\"Enter the Order ID\")\n",
    "            ItemName=input(\"Enter the Product Id\")\n",
    "            Quantity=int(input(\"Enter the Quantity\"))\n",
    "            Price=int(input(\"Enter the price per item\"))\n",
    "            Total=Quantity*Price\n",
    "            print(Total)\n",
    "        \n",
    "            self.orders[item]={\n",
    "                \"Orderid\" : OrderID,\n",
    "                \"ItemName\" : ItemName,\n",
    "                \"Quantity\" : Quantity,\n",
    "                \"Price\" : Price,\n",
    "                \"Total\" : Total\n",
    "            }\n",
    "            done=input('Enter Y/N')\n",
    "            if done=='y' or 'Y':\n",
    "                break   \n",
    "    #ef update_inventory(self):\n",
    "    #    self.inventory=\n",
    "        \n",
    "trinity=sportmart()\n",
    "#trinity.update_inventory()\n",
    "trinity.printInventory()\n",
    "orders=open(\"ORDERID.csv\",\"r\")\n",
    "orders_headers=orders.readline()\n",
    "orders_orders=orders.readlines()\n",
    "for item in orders_orders:\n",
    "    temp=item.strip().split(',')\n",
    "    print(item)\n",
    "    trinity.createOrder(temp[0],temp[1],temp[2],temp[3],temp[4])\n",
    "trinity.printOrders()\n",
    "inventory=open(\"ProductID.csv\",\"r\")\n",
    "inventory_headers=inventory.readline()\n",
    "inventory_inventory=inventory.readlines()\n",
    "for item in inventory_inventory:\n",
    "    temp=item.strip().split(',')\n",
    "    trinity.createProduct(temp[0],temp[1],temp[2],temp[3])\n",
    "trinity.printInventory()\n",
    "#trinity.new_Orders()\n",
    "#Create a menu driven program that will\n",
    "#create new orders and update the inventory accordingly\n",
    "#export the final data to thr file\n",
    "while True:\n",
    "    print(\"MENU OPTIONS\")\n",
    "    print(\"*\"*30)\n",
    "    print(\"1 - Create New Orders \") \n",
    "    print(\"2 - Final Data\")\n",
    "    print(\"3 - Exit\")\n",
    "\n",
    "    choice=int(input(\"Enter yoyr Choice\"))\n",
    "    if choice==1:\n",
    "        trinity.new_Orders()\n",
    "    elif choice==\"2\":\n",
    "        trinity.printInventory()\n"
   ]
  }
 ],
 "metadata": {
  "kernelspec": {
   "display_name": "Python 3",
   "language": "python",
   "name": "python3"
  },
  "language_info": {
   "codemirror_mode": {
    "name": "ipython",
    "version": 3
   },
   "file_extension": ".py",
   "mimetype": "text/x-python",
   "name": "python",
   "nbconvert_exporter": "python",
   "pygments_lexer": "ipython3",
   "version": "3.10.8"
  },
  "orig_nbformat": 4
 },
 "nbformat": 4,
 "nbformat_minor": 2
}
