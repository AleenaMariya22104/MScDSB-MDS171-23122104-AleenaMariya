{
 "cells": [
  {
   "cell_type": "code",
   "execution_count": 1,
   "metadata": {},
   "outputs": [
    {
     "name": "stdout",
     "output_type": "stream",
     "text": [
      "Hello MS DS B\n"
     ]
    }
   ],
   "source": [
    "print(\"Hello MS DS B\")"
   ]
  },
  {
   "cell_type": "code",
   "execution_count": 12,
   "metadata": {},
   "outputs": [
    {
     "name": "stdout",
     "output_type": "stream",
     "text": [
      "Hello\n"
     ]
    },
    {
     "data": {
      "text/plain": [
       "NoneType"
      ]
     },
     "execution_count": 12,
     "metadata": {},
     "output_type": "execute_result"
    }
   ],
   "source": [
    "a = print(\"Hello\")\n",
    "type(a)"
   ]
  },
  {
   "cell_type": "code",
   "execution_count": 2,
   "metadata": {},
   "outputs": [
    {
     "name": "stdout",
     "output_type": "stream",
     "text": [
      "['one', 'Two', 'Three']\n"
     ]
    }
   ],
   "source": [
    "listex = [\"one\",\"Two\", \"Three\"]\n",
    "print(listex)"
   ]
  },
  {
   "cell_type": "code",
   "execution_count": 3,
   "metadata": {},
   "outputs": [
    {
     "name": "stdout",
     "output_type": "stream",
     "text": [
      "Three\n"
     ]
    }
   ],
   "source": [
    "print(listex[2])"
   ]
  },
  {
   "cell_type": "code",
   "execution_count": 4,
   "metadata": {},
   "outputs": [
    {
     "name": "stdout",
     "output_type": "stream",
     "text": [
      "Success\n"
     ]
    }
   ],
   "source": [
    "if \"Three\" in listex:\n",
    "  print(\"Success\")"
   ]
  },
  {
   "cell_type": "code",
   "execution_count": 5,
   "metadata": {},
   "outputs": [
    {
     "name": "stdout",
     "output_type": "stream",
     "text": [
      "['one', 'Two', 'Three', 'Five']\n"
     ]
    }
   ],
   "source": [
    "listex.append(\"Five\")\n",
    "print(listex)"
   ]
  },
  {
   "cell_type": "code",
   "execution_count": 6,
   "metadata": {},
   "outputs": [
    {
     "name": "stdout",
     "output_type": "stream",
     "text": [
      "['one', 'Two', 'Three', 'Five', 'Four']\n"
     ]
    }
   ],
   "source": [
    "listex.append(\"Four\")\n",
    "print(listex)"
   ]
  },
  {
   "cell_type": "code",
   "execution_count": 7,
   "metadata": {},
   "outputs": [
    {
     "name": "stdout",
     "output_type": "stream",
     "text": [
      "['one', 'Two', 'Three', 'Five']\n"
     ]
    }
   ],
   "source": [
    "listex.pop()\n",
    "print(listex)\n",
    "#in pop we specify the index\n",
    "#in removewe specify the item"
   ]
  },
  {
   "cell_type": "code",
   "execution_count": 8,
   "metadata": {},
   "outputs": [
    {
     "data": {
      "text/plain": [
       "4"
      ]
     },
     "execution_count": 8,
     "metadata": {},
     "output_type": "execute_result"
    }
   ],
   "source": [
    "len(listex)"
   ]
  },
  {
   "cell_type": "code",
   "execution_count": 9,
   "metadata": {},
   "outputs": [
    {
     "name": "stdout",
     "output_type": "stream",
     "text": [
      "Iam your first function...\n",
      "Success True\n"
     ]
    }
   ],
   "source": [
    "def fname():\n",
    "  print(\"Iam your first function...\")\n",
    "  retVal = \"Success\"\n",
    "  return retVal, True\n",
    "\n",
    "status, flag = fname() #to return multiple variable we use variables, here flag and status are just variable names\n",
    "print(status, flag)"
   ]
  },
  {
   "cell_type": "code",
   "execution_count": 11,
   "metadata": {},
   "outputs": [
    {
     "name": "stdout",
     "output_type": "stream",
     "text": [
      "Iam your first function... Aleena\n",
      "Success True\n"
     ]
    }
   ],
   "source": [
    "def fname(n):\n",
    "  print(\"Iam your first function...\",n)\n",
    "  retVal = \"Success\"\n",
    "  return retVal, True\n",
    "\n",
    "name = \"Aleena\"\n",
    "status, flag = fname(name) #to return multiple variable we use variables, here flag and status are just variable names\n",
    "print(status, flag)"
   ]
  },
  {
   "cell_type": "markdown",
   "metadata": {},
   "source": [
    "Define a function that takes a list of numbers as input and return the sum of numbers, without any predefined functions"
   ]
  },
  {
   "cell_type": "code",
   "execution_count": 2,
   "metadata": {},
   "outputs": [
    {
     "name": "stdout",
     "output_type": "stream",
     "text": [
      "list['fgh']\n"
     ]
    }
   ],
   "source": [
    "n = list[(input())]\n",
    "print(n)\n",
    "def nlist(n):\n",
    "    sum =0\n",
    "    for item in list:\n",
    "        sum = sum(n)\n",
    "        \n",
    "        #print(\"Sum = \", sum(n))  \n",
    "        return sum     \n",
    "   "
   ]
  },
  {
   "cell_type": "code",
   "execution_count": 3,
   "metadata": {},
   "outputs": [
    {
     "name": "stdout",
     "output_type": "stream",
     "text": [
      "Sum:  2\n"
     ]
    }
   ],
   "source": [
    "def sumListfn(lst):\n",
    "    sum = 0\n",
    "    #logic to sum the numbers in the list\n",
    "    for item in lst:\n",
    "        sum += int(item)\n",
    "    return sum\n",
    "userInput = input(\"Enter a list of numbers seperated via Comma\")\n",
    "# 2,3,4,5,6,7,8,9,10,74\n",
    "array = userInput.strip().split(',')\n",
    "# [\"2\",\"3\",\"4\",\"5\",\"6\",\"7\",\"8\",\"9\",\"10\",\"74\"]\n",
    "sum = sumListfn(array)\n",
    "print(\"Sum: \",sum)"
   ]
  },
  {
   "cell_type": "markdown",
   "metadata": {},
   "source": [
    "Count the number of odd and even numbers in the list and print the odd number count and even numbers count along with the numbers \n",
    "You will have a function that will take a list of numbers, then returns the count of odd numbers and even numbers and the new list of odd numbers and even numbers"
   ]
  },
  {
   "cell_type": "code",
   "execution_count": 4,
   "metadata": {},
   "outputs": [
    {
     "ename": "ValueError",
     "evalue": "invalid literal for int() with base 10: ''",
     "output_type": "error",
     "traceback": [
      "\u001b[1;31m---------------------------------------------------------------------------\u001b[0m",
      "\u001b[1;31mValueError\u001b[0m                                Traceback (most recent call last)",
      "\u001b[1;32mg:\\MSDS SEM1\\PYTHON\\basics.ipynb Cell 6\u001b[0m line \u001b[0;36m1\n\u001b[0;32m      <a href='vscode-notebook-cell:/g%3A/MSDS%20SEM1/PYTHON/basics.ipynb#W5sZmlsZQ%3D%3D?line=8'>9</a>\u001b[0m     \u001b[39mreturn\u001b[39;00m even, odd\n\u001b[0;32m     <a href='vscode-notebook-cell:/g%3A/MSDS%20SEM1/PYTHON/basics.ipynb#W5sZmlsZQ%3D%3D?line=10'>11</a>\u001b[0m numbers \u001b[39m=\u001b[39m \u001b[39minput\u001b[39m (\u001b[39m\"\u001b[39m\u001b[39mEnter the numbers: \u001b[39m\u001b[39m\"\u001b[39m)\u001b[39m.\u001b[39msplit(\u001b[39m\"\u001b[39m\u001b[39m,\u001b[39m\u001b[39m\"\u001b[39m)\n\u001b[1;32m---> <a href='vscode-notebook-cell:/g%3A/MSDS%20SEM1/PYTHON/basics.ipynb#W5sZmlsZQ%3D%3D?line=11'>12</a>\u001b[0m even, odd \u001b[39m=\u001b[39m odd_even(numbers)\n\u001b[0;32m     <a href='vscode-notebook-cell:/g%3A/MSDS%20SEM1/PYTHON/basics.ipynb#W5sZmlsZQ%3D%3D?line=12'>13</a>\u001b[0m \u001b[39mprint\u001b[39m(\u001b[39m\"\u001b[39m\u001b[39mCount of the even number is \u001b[39m\u001b[39m\"\u001b[39m, \u001b[39mlen\u001b[39m(even))\n\u001b[0;32m     <a href='vscode-notebook-cell:/g%3A/MSDS%20SEM1/PYTHON/basics.ipynb#W5sZmlsZQ%3D%3D?line=13'>14</a>\u001b[0m \u001b[39mprint\u001b[39m(\u001b[39m\"\u001b[39m\u001b[39mlist of the even numbers: \u001b[39m\u001b[39m\"\u001b[39m, even)\n",
      "\u001b[1;32mg:\\MSDS SEM1\\PYTHON\\basics.ipynb Cell 6\u001b[0m line \u001b[0;36m5\n\u001b[0;32m      <a href='vscode-notebook-cell:/g%3A/MSDS%20SEM1/PYTHON/basics.ipynb#W5sZmlsZQ%3D%3D?line=2'>3</a>\u001b[0m even \u001b[39m=\u001b[39m []\n\u001b[0;32m      <a href='vscode-notebook-cell:/g%3A/MSDS%20SEM1/PYTHON/basics.ipynb#W5sZmlsZQ%3D%3D?line=3'>4</a>\u001b[0m \u001b[39mfor\u001b[39;00m i \u001b[39min\u001b[39;00m ls:\n\u001b[1;32m----> <a href='vscode-notebook-cell:/g%3A/MSDS%20SEM1/PYTHON/basics.ipynb#W5sZmlsZQ%3D%3D?line=4'>5</a>\u001b[0m     \u001b[39mif\u001b[39;00m \u001b[39mint\u001b[39;49m(i) \u001b[39m%\u001b[39m \u001b[39m2\u001b[39m \u001b[39m==\u001b[39m \u001b[39m0\u001b[39m:\n\u001b[0;32m      <a href='vscode-notebook-cell:/g%3A/MSDS%20SEM1/PYTHON/basics.ipynb#W5sZmlsZQ%3D%3D?line=5'>6</a>\u001b[0m         even\u001b[39m.\u001b[39mappend(i)\n\u001b[0;32m      <a href='vscode-notebook-cell:/g%3A/MSDS%20SEM1/PYTHON/basics.ipynb#W5sZmlsZQ%3D%3D?line=6'>7</a>\u001b[0m     \u001b[39melse\u001b[39;00m:\n",
      "\u001b[1;31mValueError\u001b[0m: invalid literal for int() with base 10: ''"
     ]
    }
   ],
   "source": [
    "def odd_even(ls):\n",
    "    odd = []\n",
    "    even = []\n",
    "    for i in ls:\n",
    "        if int(i) % 2 == 0:\n",
    "            even.append(i)\n",
    "        else:\n",
    "            odd.append(i)\n",
    "    return even, odd\n",
    "\n",
    "numbers = input (\"Enter the numbers: \").split(\",\")\n",
    "even, odd = odd_even(numbers)\n",
    "print(\"Count of the even number is \", len(even))\n",
    "print(\"list of the even numbers: \", even)\n",
    "print(\"Count of the odd number is \", len(odd))\n",
    "print(\"list of odd numbers: \", odd)\n"
   ]
  },
  {
   "cell_type": "code",
   "execution_count": null,
   "metadata": {},
   "outputs": [],
   "source": [
    "#File Handling\n",
    "file = open(\"Sample.txt\",\"w+\")"
   ]
  },
  {
   "cell_type": "code",
   "execution_count": null,
   "metadata": {},
   "outputs": [
    {
     "data": {
      "text/plain": [
       "42"
      ]
     },
     "execution_count": 19,
     "metadata": {},
     "output_type": "execute_result"
    }
   ],
   "source": [
    "file.write(\"This is my first line to file from python\\n\")"
   ]
  },
  {
   "cell_type": "code",
   "execution_count": null,
   "metadata": {},
   "outputs": [],
   "source": [
    "file.close()"
   ]
  },
  {
   "cell_type": "code",
   "execution_count": null,
   "metadata": {},
   "outputs": [
    {
     "data": {
      "text/plain": [
       "'This is my first line to file from python\\n'"
      ]
     },
     "execution_count": 21,
     "metadata": {},
     "output_type": "execute_result"
    }
   ],
   "source": [
    "file = open(\"Sample.txt\",\"r+\")\n",
    "file.readline()"
   ]
  },
  {
   "cell_type": "code",
   "execution_count": null,
   "metadata": {},
   "outputs": [
    {
     "data": {
      "text/plain": [
       "['This is my first line to file from python\\n',\n",
       " 'This is my first line to file from python\\n',\n",
       " 'This is my first line to file from python\\n',\n",
       " 'This is my first line to file from python\\n']"
      ]
     },
     "execution_count": 22,
     "metadata": {},
     "output_type": "execute_result"
    }
   ],
   "source": [
    "file.readlines()"
   ]
  },
  {
   "cell_type": "markdown",
   "metadata": {},
   "source": [
    "Question: Write a function in python that accepts your details and save it into file with your name"
   ]
  },
  {
   "cell_type": "code",
   "execution_count": null,
   "metadata": {},
   "outputs": [],
   "source": [
    "file = open(\"Aleena.txt\",\"+w\")\n",
    "file.write(\"Good Morning, Aleena here......\")\n",
    "file.readline()\n",
    "file.close()\n"
   ]
  },
  {
   "cell_type": "code",
   "execution_count": null,
   "metadata": {},
   "outputs": [],
   "source": [
    "def saveDetails(name, email, phone):\n",
    "    filename = name+ \".txt\"\n",
    "    with open(filename,\"w+\") as file:\n",
    "        file.write(\"Name\\t:\\t\"+name)\n",
    "        file.write(\"Email\\t:\\t\"+email)\n",
    "        file.write(\"Phone\\t:\\t\"+phone)\n",
    "\n",
    "user_name = input(\"Enter your Name: \")\n",
    "user_email = input(\"Enter your Email: \")\n",
    "user_phone = input(\"Enter your Phone: \")\n",
    "saveDetails(user_name,user_email,user_phone)"
   ]
  },
  {
   "cell_type": "markdown",
   "metadata": {},
   "source": [
    "Write a python program that will take two operands and an operator and performs the calculation and gives the result. Also save the calculations that your program performs in a file."
   ]
  },
  {
   "cell_type": "code",
   "execution_count": null,
   "metadata": {},
   "outputs": [],
   "source": [
    "def saveDetails():\n",
    "    file = open(\"Calculation.txt\",\"+w\")\n",
    " \n"
   ]
  },
  {
   "cell_type": "code",
   "execution_count": null,
   "metadata": {},
   "outputs": [
    {
     "name": "stdout",
     "output_type": "stream",
     "text": [
      "0 0\n",
      "1 1\n",
      "2 4\n",
      "3 9\n",
      "4 16\n",
      "5 25\n",
      "6 36\n",
      "7 49\n",
      "8 64\n",
      "9 81\n",
      "10 100\n"
     ]
    }
   ],
   "source": [
    "#while loop\n",
    "a = 0\n",
    "while a<=10:\n",
    "    res = a * a\n",
    "    print(a,res)\n",
    "    a = a+1"
   ]
  },
  {
   "cell_type": "code",
   "execution_count": null,
   "metadata": {},
   "outputs": [
    {
     "name": "stdout",
     "output_type": "stream",
     "text": [
      "1\n",
      "2\n",
      "3\n",
      "4\n",
      "5\n",
      "6\n",
      "8\n",
      "9\n"
     ]
    }
   ],
   "source": [
    "#Break, Continue\n",
    "for i in range(1,10,1):\n",
    "    if i == 7:\n",
    "        continue\n",
    "    print(i)"
   ]
  },
  {
   "cell_type": "code",
   "execution_count": null,
   "metadata": {},
   "outputs": [
    {
     "name": "stdout",
     "output_type": "stream",
     "text": [
      "['ABC', 'ABC', 'CDF', 'ABC', 'EFD', 'BCD', 'FHG']\n",
      "{'FHG', 'EFD', 'BCD', 'ABC', 'CDF'}\n"
     ]
    }
   ],
   "source": [
    "list_ex = [\"ABC\", \"ABC\",\"CDF\", \"ABC\", \"EFD\", \"BCD\", \"FHG\"]\n",
    "set_ex = set(list_ex)\n",
    "print(list_ex)\n",
    "print(set_ex)"
   ]
  },
  {
   "cell_type": "code",
   "execution_count": null,
   "metadata": {},
   "outputs": [
    {
     "name": "stdout",
     "output_type": "stream",
     "text": [
      "['ABC', 'ABC', 'CDF', 'ABC', 'EFD', 'BCD', 'FHG']\n",
      "{'FHG', 'EFD', 'BCD', 'ABC', 'CDF'}\n",
      "['FHG', 'EFD', 'BCD', 'ABC', 'CDF']\n",
      "<class 'list'>\n",
      "<class 'set'>\n",
      "<class 'list'>\n"
     ]
    }
   ],
   "source": [
    "#converting set back to list\n",
    "list_ex = [\"ABC\", \"ABC\",\"CDF\", \"ABC\", \"EFD\", \"BCD\", \"FHG\"]\n",
    "set_ex = set(list_ex)\n",
    "back = list(set_ex)\n",
    "print(list_ex)\n",
    "print(set_ex)\n",
    "print(back)\n",
    "print(type(list_ex))\n",
    "print(type(set_ex))\n",
    "print(type(back))"
   ]
  },
  {
   "cell_type": "code",
   "execution_count": null,
   "metadata": {},
   "outputs": [],
   "source": [
    "#Create a list 10 of names that are random and repeating. Identify the unique items and their count\n",
    "names = []\n",
    "for i in range(0,10,1):\n",
    "    name = input(\"Enter the name:\")\n",
    "    name = name.strip()\n",
    "    name = name.upper()\n",
    "    names.append(name)\n",
    "\n",
    "#print(names)\n",
    "unique_names = set(names)\n",
    "#print(unique_names)\n",
    "for search in unique_names:\n",
    "    #serach = \"serach the name\"\n",
    "    count = 0\n",
    "    for item in names:\n",
    "        if search == item:\n",
    "            #print(\"found\")\n",
    "            # count = count + 1\n",
    "            print(search,count)"
   ]
  },
  {
   "cell_type": "code",
   "execution_count": null,
   "metadata": {},
   "outputs": [],
   "source": [
    "my_dict = {\n",
    "    \"Name\": \"Aleena Mariya Sebastian\",\n",
    "    \"Phone\": 8590692369,\n",
    "    \"Email\": \"aleenamariyas20@gmail.com\"\n",
    "\n",
    "}"
   ]
  },
  {
   "cell_type": "code",
   "execution_count": null,
   "metadata": {},
   "outputs": [
    {
     "name": "stdout",
     "output_type": "stream",
     "text": [
      "Aleena Mariya Sebastian\n"
     ]
    }
   ],
   "source": [
    "print(my_dict[\"Name\"])"
   ]
  },
  {
   "cell_type": "code",
   "execution_count": null,
   "metadata": {},
   "outputs": [
    {
     "name": "stdout",
     "output_type": "stream",
     "text": [
      "{'Name': 'Aleena', 'Phone': 8590692369, 'Email': 'aleenamariyas20@gmail.com'}\n"
     ]
    }
   ],
   "source": [
    "my_dict[\"Name\"] = \"Aleena\"\n",
    "print(my_dict)"
   ]
  },
  {
   "cell_type": "code",
   "execution_count": null,
   "metadata": {},
   "outputs": [
    {
     "name": "stdout",
     "output_type": "stream",
     "text": [
      "{'Name': 'Aleena', 'Phone': 8590692369, 'Email': 'aleenamariyas20@gmail.com', 'Address': 'CHRIST (Deemed to be University)'}\n"
     ]
    }
   ],
   "source": [
    "my_dict[\"Address\"] = \"CHRIST (Deemed to be University)\"\n",
    "print(my_dict)"
   ]
  },
  {
   "cell_type": "code",
   "execution_count": null,
   "metadata": {},
   "outputs": [
    {
     "ename": "KeyError",
     "evalue": "'hdjhg'",
     "output_type": "error",
     "traceback": [
      "\u001b[1;31m---------------------------------------------------------------------------\u001b[0m",
      "\u001b[1;31mKeyError\u001b[0m                                  Traceback (most recent call last)",
      "\u001b[1;32mg:\\MSDS SEM1\\PYTHON\\basics.ipynb Cell 26\u001b[0m line \u001b[0;36m1\n\u001b[1;32m----> <a href='vscode-notebook-cell:/g%3A/MSDS%20SEM1/PYTHON/basics.ipynb#X34sZmlsZQ%3D%3D?line=0'>1</a>\u001b[0m \u001b[39mprint\u001b[39m(my_dict[\u001b[39m\"\u001b[39;49m\u001b[39mhdjhg\u001b[39;49m\u001b[39m\"\u001b[39;49m])\n",
      "\u001b[1;31mKeyError\u001b[0m: 'hdjhg'"
     ]
    }
   ],
   "source": [
    "print(my_dict[\"hdjhg\"])"
   ]
  },
  {
   "cell_type": "code",
   "execution_count": null,
   "metadata": {},
   "outputs": [
    {
     "data": {
      "text/plain": [
       "dict_keys(['Name', 'Phone', 'Email', 'Address'])"
      ]
     },
     "execution_count": 10,
     "metadata": {},
     "output_type": "execute_result"
    }
   ],
   "source": [
    "my_dict.keys()"
   ]
  },
  {
   "cell_type": "code",
   "execution_count": null,
   "metadata": {},
   "outputs": [
    {
     "data": {
      "text/plain": [
       "dict_values(['Aleena', 8590692369, 'aleenamariyas20@gmail.com', 'CHRIST (Deemed to be University)'])"
      ]
     },
     "execution_count": 11,
     "metadata": {},
     "output_type": "execute_result"
    }
   ],
   "source": [
    "my_dict.values()"
   ]
  },
  {
   "cell_type": "code",
   "execution_count": null,
   "metadata": {},
   "outputs": [
    {
     "name": "stdout",
     "output_type": "stream",
     "text": [
      "dict_keys(['Name', 'Phone', 'Email', 'Address'])\n",
      "Name\n",
      "Phone\n",
      "Email\n",
      "Address\n"
     ]
    }
   ],
   "source": [
    "print(my_dict.keys())\n",
    "for key in my_dict.keys():\n",
    "    print(key)"
   ]
  },
  {
   "cell_type": "code",
   "execution_count": null,
   "metadata": {},
   "outputs": [
    {
     "name": "stdout",
     "output_type": "stream",
     "text": [
      "Aleena\n",
      "Rachel\n",
      "Maria\n",
      "Fiona\n"
     ]
    }
   ],
   "source": [
    "students = {\n",
    "    \"Names\": [\"Aleena\",\"Rachel\",\"Maria\",\"Fiona\"],\n",
    "    \"RollNumber\": [1,2,3,4],\n",
    "}\n",
    "\n",
    "for name in students[\"Names\"]:\n",
    "    print(name)"
   ]
  },
  {
   "cell_type": "code",
   "execution_count": null,
   "metadata": {},
   "outputs": [
    {
     "name": "stdout",
     "output_type": "stream",
     "text": [
      "Maria\n"
     ]
    }
   ],
   "source": [
    "#to access a particular name from the list\n",
    "students = {\n",
    "    \"Names\": [\"Aleena\",\"Rachel\",\"Maria\",\"Fiona\"],\n",
    "    \"RollNumber\": [1,2,3,4],\n",
    "}\n",
    "\n",
    "#for name in students[\"Names\"]:\n",
    "#    print(name)\n",
    "print(students[\"Names\"][2])"
   ]
  },
  {
   "cell_type": "code",
   "execution_count": null,
   "metadata": {},
   "outputs": [
    {
     "name": "stdout",
     "output_type": "stream",
     "text": [
      "[{'RegNum': 23122101, 'Name': 'Aadith', 'Email': 'aadith.mathew@msds.christuniversity.in', 'Phone': 7859486532}, {'RegNum': 23122102, 'Name': 'Abhay', 'Email': 'abhay.singh@msds.christuniversity.in', 'Phone': 9959486572}, {'RegNum': 23122103, 'Name': 'Adharsh', 'Email': 'adharsh@msds.christuniversity.in', 'Phone': 8869486532}, {'RegNum': 23122104, 'Name': 'Aleena', 'Email': 'aleena.sebastian@msds.christuniversity.in', 'Phone': 8590692369}]\n"
     ]
    }
   ],
   "source": [
    "mscdsb = [\n",
    "{\n",
    "    \"RegNum\": 23122101,\n",
    "    \"Name\" : \"Aadith\",\n",
    "    \"Email\": \"aadith.mathew@msds.christuniversity.in\",\n",
    "    \"Phone\": 7859486532,\n",
    "},\n",
    "\n",
    "{\n",
    "    \"RegNum\": 23122102,\n",
    "    \"Name\" : \"Abhay\",\n",
    "    \"Email\": \"abhay.singh@msds.christuniversity.in\",\n",
    "    \"Phone\": 9959486572,\n",
    "},\n",
    "\n",
    "{\n",
    "    \"RegNum\": 23122103,\n",
    "    \"Name\" : \"Adharsh\",\n",
    "    \"Email\": \"adharsh@msds.christuniversity.in\",\n",
    "    \"Phone\": 8869486532,\n",
    "},\n",
    "\n",
    "{\n",
    "    \"RegNum\": 23122104,\n",
    "    \"Name\" : \"Aleena\",\n",
    "    \"Email\": \"aleena.sebastian@msds.christuniversity.in\",\n",
    "    \"Phone\": 8590692369,\n",
    "}\n",
    "]\n",
    "print(mscdsb)"
   ]
  },
  {
   "cell_type": "code",
   "execution_count": null,
   "metadata": {},
   "outputs": [
    {
     "name": "stdout",
     "output_type": "stream",
     "text": [
      "{'RegNum': 23122101, 'Name': 'Aadith', 'Email': 'aadith.mathew@msds.christuniversity.in', 'Phone': 7859486532}\n",
      "23122101\t\n",
      "Aadith\t\n",
      "aadith.mathew@msds.christuniversity.in\t\n",
      "7859486532\t\n",
      "{'RegNum': 23122102, 'Name': 'Abhay', 'Email': 'abhay.singh@msds.christuniversity.in', 'Phone': 9959486572}\n",
      "23122102\t\n",
      "Abhay\t\n",
      "abhay.singh@msds.christuniversity.in\t\n",
      "9959486572\t\n",
      "{'RegNum': 23122103, 'Name': 'Adharsh', 'Email': 'adharsh@msds.christuniversity.in', 'Phone': 8869486532}\n",
      "23122103\t\n",
      "Adharsh\t\n",
      "adharsh@msds.christuniversity.in\t\n",
      "8869486532\t\n",
      "{'RegNum': 23122104, 'Name': 'Aleena', 'Email': 'aleena.sebastian@msds.christuniversity.in', 'Phone': 8590692369}\n",
      "23122104\t\n",
      "Aleena\t\n",
      "aleena.sebastian@msds.christuniversity.in\t\n",
      "8590692369\t\n"
     ]
    }
   ],
   "source": [
    "for student in mscdsb:\n",
    "    print(student)\n",
    "    for key in student.keys():\n",
    "        print(student[key],end=\"\\t\")\n",
    "        print()"
   ]
  },
  {
   "cell_type": "code",
   "execution_count": 10,
   "metadata": {},
   "outputs": [
    {
     "name": "stdout",
     "output_type": "stream",
     "text": [
      "{'Name': 'Aleena', 'Phone Number': 8590692369, 'Email ID': 'aleenamariyas20@gmail.com'}\n",
      "Aleena\n",
      "{'Name': 'Aleena', 'Phone Number': 8590692369, 'Email ID': 'aleenamariyas20@gmail.com', 'Age': 21}\n",
      "{'Name': 'Aleena', 'Phone Number': 8590692369, 'Email ID': 'aleenamariyas20@gmail.com', 'Age': 21, 'Subjects': [], 'Subjects_dict': {}}\n",
      "Enter the subject 1\n",
      "{'Name': 'Aleena', 'Phone Number': 8590692369, 'Email ID': 'aleenamariyas20@gmail.com', 'Age': 21, 'Subjects': ['maths'], 'Subjects_dict': {'Subject1': 'maths'}}\n",
      "Enter the subject 2\n",
      "{'Name': 'Aleena', 'Phone Number': 8590692369, 'Email ID': 'aleenamariyas20@gmail.com', 'Age': 21, 'Subjects': ['maths', 'english'], 'Subjects_dict': {'Subject1': 'maths', 'Subject2': 'english'}}\n",
      "Enter the subject 3\n",
      "{'Name': 'Aleena', 'Phone Number': 8590692369, 'Email ID': 'aleenamariyas20@gmail.com', 'Age': 21, 'Subjects': ['maths', 'english', 'hindi'], 'Subjects_dict': {'Subject1': 'maths', 'Subject2': 'english', 'Subject3': 'hindi'}}\n",
      "Enter the subject 4\n",
      "{'Name': 'Aleena', 'Phone Number': 8590692369, 'Email ID': 'aleenamariyas20@gmail.com', 'Age': 21, 'Subjects': ['maths', 'english', 'hindi', 'social'], 'Subjects_dict': {'Subject1': 'maths', 'Subject2': 'english', 'Subject3': 'hindi', 'Subject4': 'social'}}\n",
      "Enter the subject 5\n",
      "{'Name': 'Aleena', 'Phone Number': 8590692369, 'Email ID': 'aleenamariyas20@gmail.com', 'Age': 21, 'Subjects': ['maths', 'english', 'hindi', 'social', 'science'], 'Subjects_dict': {'Subject1': 'maths', 'Subject2': 'english', 'Subject3': 'hindi', 'Subject4': 'social', 'Subject5': 'science'}}\n"
     ]
    }
   ],
   "source": [
    "# DOCTIONARY IN PYTHON\n",
    "\n",
    "myDictionary = { \n",
    "             \"Name\": \"Aleena\",\n",
    "             \"Phone Number\": 8590692369,\n",
    "             \"Email ID\": \"aleenamariyas20@gmail.com\",\n",
    "}\n",
    "\n",
    "print (myDictionary)\n",
    "\n",
    "print (myDictionary[\"Name\"])\n",
    "\n",
    "myDictionary[\"Age\"] = 21\n",
    "print (myDictionary)\n",
    "\n",
    "myDictionary[\"Subjects\"] = []\n",
    "\n",
    "myDictionary[\"Subjects_dict\"] = {}\n",
    "print (myDictionary)\n",
    "\n",
    "for Subjects in range(1,6):\n",
    "    print(\"Enter the subject\",Subjects)\n",
    "    name = input(\"Subject_Name: \")\n",
    "    \n",
    "    myDictionary[\"Subjects\"].append(name)\n",
    "    myDictionary[\"Subjects_dict\"][\"Subject\"+Subjects.__str__()] = name\n",
    "    \n",
    "    \n",
    "    print (myDictionary)"
   ]
  },
  {
   "cell_type": "code",
   "execution_count": 11,
   "metadata": {},
   "outputs": [
    {
     "name": "stdout",
     "output_type": "stream",
     "text": [
      "maths\n",
      "english\n",
      "hindi\n",
      "social\n",
      "science\n"
     ]
    }
   ],
   "source": [
    "for item in myDictionary['Subjects']:\n",
    "    print(item)"
   ]
  },
  {
   "cell_type": "code",
   "execution_count": 12,
   "metadata": {},
   "outputs": [
    {
     "name": "stdout",
     "output_type": "stream",
     "text": [
      "maths\n",
      "english\n",
      "hindi\n",
      "social\n",
      "science\n"
     ]
    }
   ],
   "source": [
    "for name in myDictionary['Subjects_dict'].values():\n",
    "    print(name)"
   ]
  },
  {
   "cell_type": "code",
   "execution_count": 15,
   "metadata": {},
   "outputs": [
    {
     "data": {
      "text/plain": [
       "['maths', 'english', 'hindi', 'social', 'science']"
      ]
     },
     "execution_count": 15,
     "metadata": {},
     "output_type": "execute_result"
    }
   ],
   "source": [
    "myDictionary[\"Subjects\"]"
   ]
  },
  {
   "cell_type": "code",
   "execution_count": 16,
   "metadata": {},
   "outputs": [],
   "source": [
    "# FILES\n",
    "file = open(\"filename.txt\",\"w\")\n",
    "file.write(\"Hello\")\n",
    "file.close()"
   ]
  },
  {
   "cell_type": "code",
   "execution_count": 17,
   "metadata": {},
   "outputs": [],
   "source": [
    "with open(\"filename.txt\",\"w\") as file:\n",
    "    file.write(\"hello\")"
   ]
  },
  {
   "cell_type": "code",
   "execution_count": 25,
   "metadata": {},
   "outputs": [],
   "source": [
    "def storeOrder(orderid,itemname,price,qty):\n",
    "   with open(\"filename.txt\",\"a\") as file:\n",
    "    order = orderid+\",\"+itemname+\",\"+str(price)+\",\"+qty.__str__()+\"\\n\"\n",
    "    file.write(order)\n",
    "   "
   ]
  },
  {
   "cell_type": "code",
   "execution_count": 28,
   "metadata": {},
   "outputs": [],
   "source": [
    "storeOrder(\"123\",\"idli\",10.00,7)"
   ]
  },
  {
   "cell_type": "code",
   "execution_count": 32,
   "metadata": {},
   "outputs": [
    {
     "name": "stdout",
     "output_type": "stream",
     "text": [
      "['123,idli,10.0,7\\n', '123,idli,10.0,7\\n', '123,idli,10.0,7\\n', '123,idli,10.0,7\\n']\n"
     ]
    }
   ],
   "source": [
    "with open(\"filename.txt\",\"r\") as file:\n",
    "   # file.readline()    to remove the first line and read the others\n",
    "    print(file.readlines())"
   ]
  },
  {
   "cell_type": "code",
   "execution_count": 36,
   "metadata": {},
   "outputs": [],
   "source": [
    "filecontent = []\n",
    "with open(\"filename.txt\",\"r\") as file:\n",
    "   # file.readline()    to remove the first line and read the others\n",
    "    filecontent = file.readlines()     "
   ]
  },
  {
   "cell_type": "code",
   "execution_count": 38,
   "metadata": {},
   "outputs": [
    {
     "name": "stdout",
     "output_type": "stream",
     "text": [
      "['123,idli,10.0,7\\n', '123,idli,10.0,7\\n', '123,idli,10.0,7\\n', '123,idli,10.0,7\\n']\n"
     ]
    }
   ],
   "source": [
    "print(filecontent)    "
   ]
  },
  {
   "cell_type": "code",
   "execution_count": 35,
   "metadata": {},
   "outputs": [
    {
     "name": "stdout",
     "output_type": "stream",
     "text": [
      "123,idli,10.0,7\n",
      "123,idli,10.0,7\n",
      "123,idli,10.0,7\n",
      "123,idli,10.0,7\n"
     ]
    }
   ],
   "source": [
    "for line in filecontent:\n",
    "    print(line.strip())    #strip is used to remove special characters or empty spaces (begining and end)"
   ]
  },
  {
   "cell_type": "code",
   "execution_count": 41,
   "metadata": {},
   "outputs": [
    {
     "name": "stdout",
     "output_type": "stream",
     "text": [
      "['123', 'idli', '10.0', '7']\n",
      "['123', 'idli', '10.0', '7']\n",
      "['123', 'idli', '10.0', '7']\n",
      "['123', 'idli', '10.0', '7']\n"
     ]
    }
   ],
   "source": [
    "for line in filecontent:\n",
    "    print(line.strip().split(',')) "
   ]
  },
  {
   "cell_type": "code",
   "execution_count": 52,
   "metadata": {},
   "outputs": [],
   "source": [
    "class students:\n",
    "    def __init__(self):\n",
    "        self.student = []\n",
    "        \n",
    "      \n",
    "        \n",
    "    def addStudent(self,name,regno):\n",
    "        self.student.append({\n",
    "            \"Name\": name,\n",
    "            \"RegNo\": regno\n",
    "        })\n",
    "    \n",
    "    def listAllStudents(self):\n",
    "        print(self.student)\n",
    "    \n",
    "    def serachStudent(self,name):\n",
    "        pass\n",
    "    \n",
    "    def removeStudent(self,name):\n",
    "        pass\n",
    "    \n",
    "    def __str__(self):\n",
    "        pass"
   ]
  },
  {
   "cell_type": "code",
   "execution_count": 53,
   "metadata": {},
   "outputs": [],
   "source": [
    "mscdsa = students()"
   ]
  },
  {
   "cell_type": "code",
   "execution_count": 54,
   "metadata": {},
   "outputs": [],
   "source": [
    "mscdsa.addStudent(\"Abith\",\"1001\")"
   ]
  },
  {
   "cell_type": "code",
   "execution_count": 55,
   "metadata": {},
   "outputs": [],
   "source": [
    "mscdsa.addStudent(\"Abik\",\"1002\")"
   ]
  },
  {
   "cell_type": "code",
   "execution_count": 56,
   "metadata": {},
   "outputs": [
    {
     "name": "stdout",
     "output_type": "stream",
     "text": [
      "[{'Name': 'Abith', 'RegNo': '1001'}, {'Name': 'Abik', 'RegNo': '1002'}]\n"
     ]
    }
   ],
   "source": [
    "mscdsa.listAllStudents()"
   ]
  },
  {
   "cell_type": "code",
   "execution_count": 57,
   "metadata": {},
   "outputs": [],
   "source": [
    "temp = [{'Name': 'Abith', 'RegNo': '1001'}, {'Name': 'Abik', 'RegNo': '1002'}]"
   ]
  },
  {
   "cell_type": "code",
   "execution_count": 58,
   "metadata": {},
   "outputs": [
    {
     "data": {
      "text/plain": [
       "[{'Name': 'Abith', 'RegNo': '1001'}, {'Name': 'Abik', 'RegNo': '1002'}]"
      ]
     },
     "execution_count": 58,
     "metadata": {},
     "output_type": "execute_result"
    }
   ],
   "source": [
    "temp"
   ]
  },
  {
   "cell_type": "code",
   "execution_count": 1,
   "metadata": {},
   "outputs": [],
   "source": [
    "# restaurant\n",
    "# customers -> orders (Menu items)\n",
    "# collecting orders\n",
    "# billing\n",
    "# print bill\n",
    "# update order\n",
    "# serach for an order\n",
    "import random\n",
    "class restaurant:\n",
    "    def __init__(self):\n",
    "        self.menu = {\n",
    "            \"rice\":30,\n",
    "            \"idli\":10,\n",
    "        }\n",
    "        \n",
    "        #orderid : { set of order details }\n",
    "        self.order = {}\n",
    "        \n",
    "        \n",
    "    def printMenu(self):\n",
    "        print(\"*\"*30)\n",
    "        print(\"The current option in the menu are: \")\n",
    "        print(\"*\"*30)\n",
    "        print(self.menu)\n",
    "        print(\"*\"*30)\n",
    "        \n",
    "    def generateOrderid(self):\n",
    "        orderid = \"\"\n",
    "        for i in range (1,6,1):\n",
    "            orderid+=str(random.randint(1,10))\n",
    "        return orderid\n",
    "    \n",
    "    # def printBill(self):\n",
    "        \n",
    "        \n",
    "                \n",
    "    def collectOrder(self):\n",
    "        self.printMenu()   # print menu\n",
    "        phone = input(\"Enter customer phone number: \")\n",
    "        order = {}\n",
    "        while True:\n",
    "            item = input (\"Enter the item name you want to order: \").strip().title()\n",
    "            qty = int(input(\"Enter the quantity of the item: \"))\n",
    "            order[item] = qty\n",
    "            choice = input(\"Do you want to complete order? 'Y'\").strip().upper()\n",
    "            if choice == 'Y':\n",
    "                break\n",
    "            \n",
    "        orderid = self.generateOrderid()\n",
    "        self.order[orderid] = {\n",
    "            \"Phone\": phone,\n",
    "            \"Order\": order\n",
    "        }\n",
    "                                      \n",
    "        # ask user to enter the value\n",
    "        # collect the value and update the order\n",
    "        # print the order\n",
    "        print(self.order)\n",
    "        #print(self.bill)\n",
    "        \n",
    "        "
   ]
  },
  {
   "cell_type": "code",
   "execution_count": 4,
   "metadata": {},
   "outputs": [],
   "source": [
    "abc = restaurant()"
   ]
  },
  {
   "cell_type": "code",
   "execution_count": 3,
   "metadata": {},
   "outputs": [
    {
     "name": "stdout",
     "output_type": "stream",
     "text": [
      "******************************\n",
      "The current option in the menu are: \n",
      "******************************\n",
      "{'rice': 30, 'idli': 10}\n",
      "******************************\n",
      "{'572102': {'Phone': '8590692369', 'Order': {'Rice': 6}}}\n"
     ]
    }
   ],
   "source": [
    "abc.collectOrder()"
   ]
  },
  {
   "cell_type": "code",
   "execution_count": null,
   "metadata": {},
   "outputs": [],
   "source": [
    "#Load a csv, set new column names\n",
    "# Rename column name(1Column, multiple column)\n",
    "# Load a dataset, set one column as index column\n",
    "# Split your data into multiple files with respect to rows and columns\n",
    "# Load the dataset files and manage them to find file\n",
    "\n"
   ]
  },
  {
   "cell_type": "code",
   "execution_count": null,
   "metadata": {},
   "outputs": [],
   "source": [
    "# write a python program with the following specifications:\n",
    "# a function named create dataset which will take a dictionary, filename, no. of rows as arguments\n",
    "# the dictionary is having the following structure {\n",
    "#                                                     \"column name\":[domain of values]\n",
    "#                                                  }\n",
    "# your function will select random values for each of the domains and create a  row for you\n",
    "# the no. of rows that has to be created is the parameter\n",
    "# save the file with the required no. of rows \n",
    "# load this dataset using pandas and display basic information\n",
    "\n",
    "import pandas as pd\n",
    "import random\n",
    "def createDataset(data_dict, file_name, num_rows):\n",
    "   \n",
    "    data = {}\n",
    "    \n",
    "    for col, domain in data_dict.items():\n",
    "        data[col] = [random.choice(domain) for _ in range(num_rows)]\n",
    "        \n",
    "        \n",
    "    df = pd.DataFrame(data)\n",
    "    \n",
    "dict1={\n",
    "    \"name\":[\"Aleena\",\"Joseph\",\"Rachel\",\"Serah\"],\n",
    "    \"reg_no\":[1,2,3,4],\n",
    "    \"email_id\":[\"aleena@gmail.com\",\"joseph@gmail.com\",\"rachel@gmail.com\",\"serah@gmail.com\"],\n",
    "    \"phone_no\":[8590748596,7894561233,9632587411,7845129638]\n",
    "}\n",
    "\n",
    "    \n",
    "\n",
    " \n",
    "    "
   ]
  }
 ],
 "metadata": {
  "kernelspec": {
   "display_name": "Python 3.10.8 64-bit",
   "language": "python",
   "name": "python3"
  },
  "language_info": {
   "codemirror_mode": {
    "name": "ipython",
    "version": 3
   },
   "file_extension": ".py",
   "mimetype": "text/x-python",
   "name": "python",
   "nbconvert_exporter": "python",
   "pygments_lexer": "ipython3",
   "version": "3.10.8"
  },
  "orig_nbformat": 4,
  "vscode": {
   "interpreter": {
    "hash": "17bb3365e37b62cb3e29e7a45999a8d52a27ca185d4c67821f49e60871bac131"
   }
  }
 },
 "nbformat": 4,
 "nbformat_minor": 2
}
